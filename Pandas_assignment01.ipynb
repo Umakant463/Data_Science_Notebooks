{
 "cells": [
  {
   "cell_type": "code",
   "execution_count": 12,
   "id": "53f4f9d2",
   "metadata": {},
   "outputs": [
    {
     "data": {
      "text/plain": [
       "pandas.core.series.Series"
      ]
     },
     "execution_count": 12,
     "metadata": {},
     "output_type": "execute_result"
    }
   ],
   "source": [
    "#Q1. Create a Pandas Series that contains the following data: 4, 8, 15, 16, 23, and 42. Then, print the series.\n",
    "\n",
    "lst=[4, 8, 15, 16, 23,42]\n",
    "\n",
    "import pandas as pd\n",
    "\n",
    "df=pd.DataFrame(lst)\n",
    "\n",
    "lst_series=df[0]\n",
    "\n",
    "type(lst_series)"
   ]
  },
  {
   "cell_type": "code",
   "execution_count": 17,
   "id": "47e7e9d1",
   "metadata": {},
   "outputs": [
    {
     "data": {
      "text/plain": [
       "0     sachin\n",
       "1    ganguli\n",
       "2      madan\n",
       "3     junaid\n",
       "4     naveen\n",
       "5      rahul\n",
       "6     pandya\n",
       "7    marshal\n",
       "8    sanjeev\n",
       "9       ravi\n",
       "dtype: object"
      ]
     },
     "execution_count": 17,
     "metadata": {},
     "output_type": "execute_result"
    }
   ],
   "source": [
    "#Q2. Create a variable of list type containing 10 elements in it, and apply pandas.Series function on the variable print it.\n",
    "\n",
    "players = ['sachin','ganguli','madan','junaid','naveen','rahul','pandya','marshal','sanjeev','ravi']\n",
    "\n",
    "#df1 = pd.DataFrame(players)\n",
    "\n",
    "pd.Series(players)\n",
    "\n",
    "\n"
   ]
  },
  {
   "cell_type": "code",
   "execution_count": 28,
   "id": "d7e96249",
   "metadata": {},
   "outputs": [
    {
     "name": "stdout",
     "output_type": "stream",
     "text": [
      "     Name  Age  Gender\n",
      "0   Alice   25   Femal\n",
      "1     BOB   30    Male\n",
      "2  Claire   27  Female\n"
     ]
    },
    {
     "data": {
      "text/plain": [
       "0    25\n",
       "1    30\n",
       "2    27\n",
       "Name: Age, dtype: int64"
      ]
     },
     "execution_count": 28,
     "metadata": {},
     "output_type": "execute_result"
    }
   ],
   "source": [
    "#Q3. Create a Pandas DataFrame that contains the following data:\n",
    "#Then, print the DataFrame.\n",
    "\n",
    "# Method 01\n",
    "\n",
    "data1={'Name':['Alice','BOB','Claire'], \n",
    "       'Age':[25,30,27], \n",
    "       'Gender':['Femal','Male','Female']}\n",
    "\n",
    "\n",
    "\n",
    "df2=pd.DataFrame(data1)\n",
    "\n",
    "print(df2)\n",
    "\n",
    "df2['Age']"
   ]
  },
  {
   "cell_type": "code",
   "execution_count": 25,
   "id": "fcf76e44",
   "metadata": {},
   "outputs": [
    {
     "name": "stdout",
     "output_type": "stream",
     "text": [
      "        0    1       2\n",
      "0    Name  Age  Gender\n",
      "1   Alice   25   Femal\n",
      "2     Bob   30    Male\n",
      "3  Claire   27  Female\n"
     ]
    }
   ],
   "source": [
    "## Method 02\n",
    "\n",
    "data2 = [['Name', 'Age','Gender'],['Alice',25,'Femal'],['Bob',30,'Male'],['Claire',27,'Female']]\n",
    "\n",
    "dfdata2=pd.DataFrame(data2)\n",
    "type(dfdata2)\n",
    "print(dfdata2)"
   ]
  },
  {
   "cell_type": "raw",
   "id": "497311d5",
   "metadata": {},
   "source": [
    "#Q4. What is ‘DataFrame’ in pandas and how is it different from pandas.series? Explain with an example.\n",
    "\n",
    "DataFrame is a data structure that organizes data into a 2-D table of rows and columns like SQL.\n",
    "\n",
    "Difference between Dataframe and series:\n",
    "DataFrame is 2 Dimensional data structure  e.g you can add multiple columns in DataFrame\n",
    "DataFrame size in mutable\n",
    "\n",
    "e.g: df2[['Age','Gender']]\n",
    "\n",
    "\tAge\tGender\n",
    "0\t25\tFemal\n",
    "1\t30\tMale\n",
    "2\t27\tFemale\n",
    "\n",
    "\n",
    "\n",
    "Series is 1 Dimensional data structure e.g you can add only one column in series \n",
    "Series size is immutable  and has only 1 dtype\n",
    "\n",
    "e.g df2['Age']\n",
    "\n",
    "0    25\n",
    "1    30\n",
    "2    27\n",
    "Name: Age, dtype: int64\n"
   ]
  },
  {
   "cell_type": "code",
   "execution_count": null,
   "id": "569eefe6",
   "metadata": {},
   "outputs": [],
   "source": [
    "#Q5. What are some common functions you can use to manipulate data in a Pandas DataFrame? Can\n",
    "you give an example of when you might use one of these functions?\n",
    "\n",
    "\n"
   ]
  }
 ],
 "metadata": {
  "kernelspec": {
   "display_name": "Python 3 (ipykernel)",
   "language": "python",
   "name": "python3"
  },
  "language_info": {
   "codemirror_mode": {
    "name": "ipython",
    "version": 3
   },
   "file_extension": ".py",
   "mimetype": "text/x-python",
   "name": "python",
   "nbconvert_exporter": "python",
   "pygments_lexer": "ipython3",
   "version": "3.9.6"
  }
 },
 "nbformat": 4,
 "nbformat_minor": 5
}
