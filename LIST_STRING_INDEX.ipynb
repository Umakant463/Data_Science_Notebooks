{
 "cells": [
  {
   "cell_type": "markdown",
   "id": "8bfe23f3",
   "metadata": {},
   "source": [
    "##      --- LIST.  STRING.  INDEX ---\n",
    "\n",
    "#### NOTE :  List is MUTABLE, string is  IMMUTABLE"
   ]
  },
  {
   "cell_type": "code",
   "execution_count": 63,
   "id": "8751a1e8",
   "metadata": {},
   "outputs": [
    {
     "name": "stdout",
     "output_type": "stream",
     "text": [
      "raj kumar\n"
     ]
    },
    {
     "data": {
      "text/plain": [
       "['Data', '']"
      ]
     },
     "execution_count": 63,
     "metadata": {},
     "output_type": "execute_result"
    }
   ],
   "source": [
    "## STRING\n",
    "\n",
    "#concatenation operation\n",
    "\n",
    "name='raj'\n",
    "print(name + ' kumar') # returns 'raj kumar'\n",
    "\n",
    "len(name) # returns '3'\n",
    "\n",
    "\n",
    "#Find Function   \n",
    "#.   S.find(sub[, start[, end]]) -> int    --- here sub = substring  --> returns int\n",
    "\n",
    "course_name = 'data science masters'\n",
    "\n",
    "course_name.find('a') #Return the lowest index in S where substring sub is found,\n",
    "#Here 'a' is present at index 1,3 and so on, find() will return lowest index i.e is '1'\n",
    "\n",
    "course_name.find('a',3,8)  # returns index 3\n",
    "\n",
    "course_name.find('z') # returns -1. means element not present in given obj\n",
    "\n",
    "## Their are many functions for 'string.'\n",
    "\n",
    "# COUNT()     -- Return the number of non-overlapping occurrences of substring sub in\n",
    "\n",
    "course_name.count('a')  # returns '3'   as 'a' is ocurred 3 times in string.\n",
    "\n",
    "#check for empty string\n",
    "course_name.count(' ')  # 2 empty spaces in string\n",
    "\n",
    "course_name.index('')\n",
    "\n",
    "\n",
    "## SPLIT()      ---  course_name.split(sep=None, maxsplit=-1)\n",
    "\n",
    "course_name.split(sep='a')   #Return a list of the words in the string, using sep as the delimiter string.\n",
    "\n",
    "\n",
    "course_name.partition('a')       #Partition the string into three parts using the given separator.\n",
    "\n",
    "\n",
    "\n",
    "\n",
    "course_name.swapcase()\n",
    "course_name.title()\n",
    "\n",
    "\n",
    "\n",
    "\n",
    "\n",
    "#-----------------WE CAN ADD MULTIPLE FUNCTIONS IN STRING OPERATIONS-----------------\n",
    "course_name[:5].swapcase().title().split(sep=\" \")\n",
    "\n"
   ]
  },
  {
   "cell_type": "code",
   "execution_count": 1,
   "id": "f52a57e9",
   "metadata": {},
   "outputs": [
    {
     "ename": "TypeError",
     "evalue": "'str' object does not support item assignment",
     "output_type": "error",
     "traceback": [
      "\u001b[0;31m---------------------------------------------------------------------------\u001b[0m",
      "\u001b[0;31mTypeError\u001b[0m                                 Traceback (most recent call last)",
      "Cell \u001b[0;32mIn[1], line 11\u001b[0m\n\u001b[1;32m      9\u001b[0m name\u001b[38;5;241m=\u001b[39m \u001b[38;5;124m'\u001b[39m\u001b[38;5;124mrambo\u001b[39m\u001b[38;5;124m'\u001b[39m\n\u001b[1;32m     10\u001b[0m name[\u001b[38;5;241m2\u001b[39m] \u001b[38;5;66;03m# 'm'\u001b[39;00m\n\u001b[0;32m---> 11\u001b[0m \u001b[43mname\u001b[49m\u001b[43m[\u001b[49m\u001b[38;5;241;43m2\u001b[39;49m\u001b[43m]\u001b[49m \u001b[38;5;241m=\u001b[39m \u001b[38;5;124m'\u001b[39m\u001b[38;5;124mk\u001b[39m\u001b[38;5;124m'\u001b[39m \n\u001b[1;32m     13\u001b[0m \u001b[38;5;28mprint\u001b[39m(name)\n",
      "\u001b[0;31mTypeError\u001b[0m: 'str' object does not support item assignment"
     ]
    }
   ],
   "source": [
    "## we will check out string\n",
    "\n",
    "a_list = [2,3,4,5]\n",
    "a_list [2]  #4\n",
    "a_list [2] = 8 # now it is 8\n",
    "\n",
    "## but in case of string\n",
    "\n",
    "name= 'rambo'\n",
    "name[2] # 'm'\n",
    "name[2] = 'k' #TypeError: 'str' object does not support item assignment\n",
    "\n",
    "print(name)"
   ]
  },
  {
   "cell_type": "markdown",
   "id": "202ce66f",
   "metadata": {},
   "source": [
    "## INDEXING"
   ]
  },
  {
   "cell_type": "code",
   "execution_count": 27,
   "id": "25c776bf",
   "metadata": {},
   "outputs": [
    {
     "data": {
      "text/plain": [
       "'eboo'"
      ]
     },
     "execution_count": 27,
     "metadata": {},
     "output_type": "execute_result"
    }
   ],
   "source": [
    "## String operations \n",
    "# [start:end] - starts with 0, first element is always 0th index\n",
    "\n",
    "name = \"notebook\"\n",
    "\n",
    "name [:]   ## returns the whole string 'notebook'\n",
    "name [:1] ## returns 'n'\n",
    "name [0:-1] ## 'noteboo'\n",
    "name [:-1] ## returns 'noteboo' \n",
    "name [:0] ## returns ''\n",
    "name [1:] ## returns 'otebook'\n",
    "name [1:5] ## 'oteb'\n",
    "\n",
    "name [2:-1] ## it will return value from 3rd place till 2nd last place. 'teboo'\n",
    "name [-1:] # returns last place 'k'\n",
    "name [-4:] # returns 4 places from end. 'book'\n",
    "name [-1:2] # it returns nothing ''\n",
    "name [-1:-5] # returns nothing ''\n",
    "# because -1 is last place and it moves forward direction only, so after last place thr is nothing in end.\n",
    "\n",
    "name [-5:-1] # returns 'eboo'  \n",
    "\n",
    "\n",
    "# NOTE : [:] by default string moves in forward direction, hence we cannot print words in reverse order. use [::-1]\n",
    "# NOTE : [:] range starts from '0' hence will return all the string value exept for the no. mentioned in the range."
   ]
  },
  {
   "cell_type": "code",
   "execution_count": 19,
   "id": "ba3c7369",
   "metadata": {},
   "outputs": [
    {
     "data": {
      "text/plain": [
       "'bo'"
      ]
     },
     "execution_count": 19,
     "metadata": {},
     "output_type": "execute_result"
    }
   ],
   "source": [
    "## step size in indexing [::]\n",
    "# [start:end:steps]\n",
    "\n",
    "name = \"notebook\"\n",
    "\n",
    "name [::] ## will return 'notebook'\n",
    "\n",
    "name [::2] # returns every 2nd value of the string  'ntbo'\n",
    "name [::1] ## returns 'notebook'\n",
    "name [::-1] # reverses the string 'koobeton'\n",
    "name [::-2] #reverses the string and returns 2nd value 'koeo'\n",
    "\n",
    "name [2::-1] # after 2nd place it will reverse and print till 2nd last place\n",
    "# 2nd place = 'n -o', \n",
    "# it will reverse the string 'koobeton', \n",
    "# now it will start from 'no -t'  and return till last\n",
    "# that is 'ton'\n",
    "\n",
    "name [-4::2]"
   ]
  },
  {
   "cell_type": "code",
   "execution_count": 36,
   "id": "49368396",
   "metadata": {},
   "outputs": [
    {
     "data": {
      "text/plain": [
       "' ecneics'"
      ]
     },
     "execution_count": 36,
     "metadata": {},
     "output_type": "execute_result"
    }
   ],
   "source": [
    "course_name = \"Data science masters\"\n",
    "\n",
    "\n",
    "course_name [5:-8]\n",
    "\n",
    "course_name [12:4:-1]"
   ]
  },
  {
   "cell_type": "markdown",
   "id": "7c93df66",
   "metadata": {},
   "source": [
    "# -------LISTS---------"
   ]
  },
  {
   "cell_type": "code",
   "execution_count": 64,
   "id": "37b308ed",
   "metadata": {},
   "outputs": [
    {
     "ename": "TypeError",
     "evalue": "can only concatenate list (not \"str\") to list",
     "output_type": "error",
     "traceback": [
      "\u001b[0;31m---------------------------------------------------------------------------\u001b[0m",
      "\u001b[0;31mTypeError\u001b[0m                                 Traceback (most recent call last)",
      "Cell \u001b[0;32mIn[64], line 4\u001b[0m\n\u001b[1;32m      1\u001b[0m \u001b[38;5;66;03m# Lists are mutable data structure\u001b[39;00m\n\u001b[1;32m      3\u001b[0m list1\u001b[38;5;241m=\u001b[39m[\u001b[38;5;124m\"\u001b[39m\u001b[38;5;124mmonkey\u001b[39m\u001b[38;5;124m\"\u001b[39m,\u001b[38;5;124m\"\u001b[39m\u001b[38;5;124mdonkey\u001b[39m\u001b[38;5;124m\"\u001b[39m,\u001b[38;5;124m\"\u001b[39m\u001b[38;5;124mcat\u001b[39m\u001b[38;5;124m\"\u001b[39m]\n\u001b[0;32m----> 4\u001b[0m \u001b[43mlist1\u001b[49m\u001b[43m \u001b[49m\u001b[38;5;241;43m+\u001b[39;49m\u001b[43m \u001b[49m\u001b[38;5;124;43m\"\u001b[39;49m\u001b[38;5;124;43mlion\u001b[39;49m\u001b[38;5;124;43m\"\u001b[39;49m\n",
      "\u001b[0;31mTypeError\u001b[0m: can only concatenate list (not \"str\") to list"
     ]
    }
   ],
   "source": [
    "# Lists are mutable data structure\n",
    "\n",
    "list1=[\"monkey\",\"donkey\",\"cat\"]\n",
    "list1 + \"lion\""
   ]
  },
  {
   "cell_type": "code",
   "execution_count": 71,
   "id": "ff298a14",
   "metadata": {},
   "outputs": [
    {
     "name": "stdout",
     "output_type": "stream",
     "text": [
      "None\n"
     ]
    }
   ],
   "source": [
    "## Inplace operation\n",
    "\n",
    "#list1.sort()\n",
    "list1.append('kamt')\n",
    "list1.reverse()\n",
    "\n",
    "\n",
    "list1.append(['nyak','mang'])  #This will created nested list, list within a list\n",
    "\n",
    "list1.extend(['nyak','mang']) #This will add those 2 items in the list.\n",
    "\n",
    "\n",
    "\n",
    "\n",
    "list2=[2,4,5,1,5,3]\n",
    "#sort this list\n",
    "\n",
    "print(list2.sort(reverse=True))"
   ]
  },
  {
   "cell_type": "code",
   "execution_count": 72,
   "id": "4e2a97bd",
   "metadata": {},
   "outputs": [],
   "source": [
    "#List comprehension\n",
    "\n",
    "\n",
    "# [expr. for val in collection] --- here expr adds the elements and for loops through it giving a list obj.\n",
    "\n",
    "\n",
    "\n",
    "squares = []\n",
    "\n",
    "for i in range (1,101):\n",
    "    squares.append(i**2)\n",
    "    \n",
    "    \n",
    "# This is list comprehension for above code. \n",
    "squares2 = [i**2 for i in range(1,101)]\n",
    "\n",
    "\n",
    "remainders = [x**2 %5 for x in range (1,101)]\n",
    "\n",
    "\n",
    "movies = ['goagone','tribute','masahal','natwrar','meinlkamp','naveen','naad','johar']\n",
    "\n",
    "gmovies =[]\n",
    "# show movies starting with 'G'\n",
    "\n",
    "for title in movies:\n",
    "    if title.startswith('n'):\n",
    "        gmovies.append(title)\n"
   ]
  },
  {
   "cell_type": "code",
   "execution_count": 85,
   "id": "2c7f6535",
   "metadata": {},
   "outputs": [
    {
     "name": "stdout",
     "output_type": "stream",
     "text": [
      "['masahal', 'meinlkamp']\n"
     ]
    },
    {
     "data": {
      "text/plain": [
       "49"
      ]
     },
     "execution_count": 85,
     "metadata": {},
     "output_type": "execute_result"
    }
   ],
   "source": [
    "movies = ['goagone','tribute','masahal','natwrar','meinlkamp','naveen','naad','johar']\n",
    "\n",
    "gmovies =[]\n",
    "# show movies starting with 'G'\n",
    "\n",
    "for title in movies:\n",
    "    if title.startswith('n'):\n",
    "        gmovies.append(title)\n",
    "        \n",
    "\n",
    "\n",
    "\n",
    "gmovies=[title for title in movies if title.startswith('m')]\n",
    "\n",
    "print(gmovies)\n",
    "\n",
    "evnum = []\n",
    "\n",
    "evnum = [num for num in range (1,100) if num%2==0]\n",
    "\n",
    "len(evnum)"
   ]
  },
  {
   "cell_type": "code",
   "execution_count": 79,
   "id": "c3ea0aa2",
   "metadata": {},
   "outputs": [
    {
     "name": "stdout",
     "output_type": "stream",
     "text": [
      "[2, 3, 4, 2, 3, 4, 2, 3, 4, 2, 3, 4]\n",
      "[8, 12, 16]\n"
     ]
    }
   ],
   "source": [
    "# Scalar multiplication\n",
    "\n",
    "\n",
    "v = [2,3,4]\n",
    "\n",
    "print(v*4)  # this is not scalar multiplication(here u will get 2,3,4.  4 times)\n",
    "\n",
    "\n",
    "v1 = [k*4 for k in v]   # here you got 8,12,16\n",
    "\n",
    "print(v1)"
   ]
  },
  {
   "cell_type": "code",
   "execution_count": 95,
   "id": "ba5859b0",
   "metadata": {},
   "outputs": [
    {
     "name": "stdout",
     "output_type": "stream",
     "text": [
      "2450 2500\n",
      "2450\n",
      "[1, 4, 9, 16, 25, 36, 49, 64, 81, 100, 121, 144, 169, 196, 225, 256, 289, 324, 361]\n"
     ]
    }
   ],
   "source": [
    "## sum of even and odd num 1,100\n",
    "\n",
    "even=0\n",
    "odd =0\n",
    "\n",
    "for i in range(1,100):\n",
    "    if i%2 == 0:\n",
    "        even=even+i\n",
    "    else :\n",
    "        odd=odd+i\n",
    "        \n",
    "print(even, odd)\n",
    "\n",
    "\n",
    "even_sum = sum([num for num in range(1,100) if num%2==0 ])\n",
    "print(even_sum)\n",
    "\n",
    "\n",
    "\n",
    "sqr=[]\n",
    "sqr = [num**2 for num in range(1,20)]\n",
    "print(sqr)"
   ]
  },
  {
   "cell_type": "code",
   "execution_count": null,
   "id": "3671a2bd",
   "metadata": {},
   "outputs": [],
   "source": []
  }
 ],
 "metadata": {
  "kernelspec": {
   "display_name": "Python 3 (ipykernel)",
   "language": "python",
   "name": "python3"
  },
  "language_info": {
   "codemirror_mode": {
    "name": "ipython",
    "version": 3
   },
   "file_extension": ".py",
   "mimetype": "text/x-python",
   "name": "python",
   "nbconvert_exporter": "python",
   "pygments_lexer": "ipython3",
   "version": "3.9.6"
  }
 },
 "nbformat": 4,
 "nbformat_minor": 5
}
