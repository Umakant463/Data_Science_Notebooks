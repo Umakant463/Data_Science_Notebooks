{
 "cells": [
  {
   "cell_type": "code",
   "execution_count": 2,
   "id": "0d698dcf-ac0e-476c-8b01-5786c2db3e4c",
   "metadata": {},
   "outputs": [],
   "source": [
    "# We are going to make a Patterns out of loop statements\n",
    "\n",
    "n=7"
   ]
  },
  {
   "cell_type": "code",
   "execution_count": 7,
   "id": "4bb3465d-3dc8-4ced-a63e-1bd752858deb",
   "metadata": {},
   "outputs": [
    {
     "name": "stdout",
     "output_type": "stream",
     "text": [
      "*\n",
      "**\n",
      "***\n",
      "****\n",
      "*****\n",
      "******\n",
      "*******\n"
     ]
    }
   ],
   "source": [
    "## Right Angeled Triangle\n",
    "\n",
    "for i in range(0,7):\n",
    "    for j in range(0,i+1):\n",
    "        print('*',end=\"\")\n",
    "    print('\\r')"
   ]
  },
  {
   "cell_type": "code",
   "execution_count": 27,
   "id": "9d8eb6cc-e151-42fe-8d44-54da2188576c",
   "metadata": {},
   "outputs": [
    {
     "name": "stdout",
     "output_type": "stream",
     "text": [
      "       **\n",
      "      ****\n",
      "     ******\n",
      "    ********\n",
      "   **********\n",
      "  ************\n",
      " **************\n"
     ]
    }
   ],
   "source": [
    "## Equilateral Triangle\n",
    "\n",
    "for i in range(0,7):\n",
    "    for j in range(0,7-i):\n",
    "        print(' ',end=\"\")\n",
    "\n",
    "    for k in range(0,i+1):\n",
    "        print('*',end=\"\")\n",
    "        \n",
    "    for m in range(0,i+1):\n",
    "        print('*',end=\"\")\n",
    "    print('\\r')\n",
    "   "
   ]
  },
  {
   "cell_type": "code",
   "execution_count": 8,
   "id": "b45bbebb-d75a-47da-932d-9262c586b001",
   "metadata": {},
   "outputs": [
    {
     "ename": "AttributeError",
     "evalue": "'str' object has no attribute 'id'",
     "output_type": "error",
     "traceback": [
      "\u001b[0;31m---------------------------------------------------------------------------\u001b[0m",
      "\u001b[0;31mAttributeError\u001b[0m                            Traceback (most recent call last)",
      "Cell \u001b[0;32mIn[8], line 7\u001b[0m\n\u001b[1;32m      4\u001b[0m name \u001b[38;5;241m=\u001b[39m \u001b[38;5;124m'\u001b[39m\u001b[38;5;124mnaveen\u001b[39m\u001b[38;5;124m'\u001b[39m\n\u001b[1;32m      6\u001b[0m \u001b[38;5;28;01mfor\u001b[39;00m i \u001b[38;5;129;01min\u001b[39;00m name\u001b[38;5;241m.\u001b[39mlower():\n\u001b[0;32m----> 7\u001b[0m     \u001b[38;5;28mprint\u001b[39m(\u001b[43mi\u001b[49m\u001b[38;5;241;43m.\u001b[39;49m\u001b[43mid\u001b[49m)\n\u001b[1;32m      8\u001b[0m     \u001b[38;5;28;01mfor\u001b[39;00m k \u001b[38;5;129;01min\u001b[39;00m vowels\u001b[38;5;241m.\u001b[39mlower():\n\u001b[1;32m      9\u001b[0m         \u001b[38;5;28;01mif\u001b[39;00m i\u001b[38;5;241m==\u001b[39mk : \u001b[38;5;28mprint\u001b[39m(\u001b[38;5;124mf\u001b[39m\u001b[38;5;124m'\u001b[39m\u001b[38;5;124mwe have vowels \u001b[39m\u001b[38;5;132;01m{\u001b[39;00mi\u001b[38;5;132;01m}\u001b[39;00m\u001b[38;5;124m  at index \u001b[39m\u001b[38;5;124m'\u001b[39m, name\u001b[38;5;241m.\u001b[39mindex(i))\n",
      "\u001b[0;31mAttributeError\u001b[0m: 'str' object has no attribute 'id'"
     ]
    }
   ],
   "source": [
    "# Check if the name character has vowels in it.\n",
    "\n",
    "vowels = 'aeiOu'\n",
    "name = 'naveen'\n",
    "\n",
    "for i in name.lower():\n",
    "    for k in vowels.lower():\n",
    "        if i==k : print(f'we have vowels {i}  at index ', name.index(i))\n",
    "            "
   ]
  },
  {
   "cell_type": "code",
   "execution_count": null,
   "id": "200ce8af",
   "metadata": {},
   "outputs": [],
   "source": [
    "enumarate()"
   ]
  },
  {
   "cell_type": "code",
   "execution_count": 16,
   "id": "39aa5471",
   "metadata": {},
   "outputs": [
    {
     "name": "stdout",
     "output_type": "stream",
     "text": [
      "['hello', 'naveem']\n"
     ]
    }
   ],
   "source": [
    "#if something present in list print all before\n",
    "\n",
    "\n",
    "lst1 = ['hello', 'naveem', 'coorg', 'macha']\n",
    "\n",
    "if 'coorg' in lst1 : print(lst1[:lst1.index('coorg')])\n",
    "    #print(lst1[-lst1.index['coorg'] : 0]) "
   ]
  },
  {
   "cell_type": "code",
   "execution_count": null,
   "id": "48aaecee",
   "metadata": {},
   "outputs": [],
   "source": [
    "# check elements inside a list\n",
    "\n"
   ]
  }
 ],
 "metadata": {
  "kernelspec": {
   "display_name": "Python 3 (ipykernel)",
   "language": "python",
   "name": "python3"
  },
  "language_info": {
   "codemirror_mode": {
    "name": "ipython",
    "version": 3
   },
   "file_extension": ".py",
   "mimetype": "text/x-python",
   "name": "python",
   "nbconvert_exporter": "python",
   "pygments_lexer": "ipython3",
   "version": "3.9.6"
  }
 },
 "nbformat": 4,
 "nbformat_minor": 5
}
