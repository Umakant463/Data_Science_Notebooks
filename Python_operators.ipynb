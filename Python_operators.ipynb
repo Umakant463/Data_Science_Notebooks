{
 "cells": [
  {
   "cell_type": "markdown",
   "id": "ee52bb20",
   "metadata": {},
   "source": [
    "# Operations"
   ]
  },
  {
   "cell_type": "markdown",
   "id": "5e722000",
   "metadata": {},
   "source": [
    "### Python Arithmetic Operators"
   ]
  },
  {
   "cell_type": "raw",
   "id": "3694107b",
   "metadata": {},
   "source": [
    "   Operator\tName\tExample\n",
    "+\tAddition\t10 + 20 = 30\n",
    "-\tSubtraction\t20 – 10 = 10\n",
    "*\tMultiplication\t10 * 20 = 200\n",
    "/\tDivision\t20 / 10 = 2\n",
    "%\tModulus\t22 % 10 = 2\n",
    "**\tExponent\t4**2 = 16\n",
    "//\tFloor Division\t9//2 = 4"
   ]
  },
  {
   "cell_type": "markdown",
   "id": "859e64e2",
   "metadata": {},
   "source": [
    "### Python Comparison Operators\n"
   ]
  },
  {
   "cell_type": "raw",
   "id": "33c03bb1",
   "metadata": {},
   "source": [
    "Operator\tName\tExample\n",
    "==\tEqual\t4 == 5 is not true.\n",
    "!=\tNot Equal\t4 != 5 is true.\n",
    ">\tGreater Than\t4 > 5 is not true.\n",
    "<\tLess Than\t4 < 5 is true.\n",
    ">=\tGreater than or Equal to\t4 >= 5 is not true.\n",
    "<=\tLess than or Equal to\t4 <= 5 is true."
   ]
  },
  {
   "cell_type": "markdown",
   "id": "8bb1abbf",
   "metadata": {},
   "source": [
    "### Python Assignment Operators"
   ]
  },
  {
   "cell_type": "raw",
   "id": "3f71b60a",
   "metadata": {},
   "source": [
    "Operator\tName\tExample\n",
    "=\tAssignment Operator\ta = 10\n",
    "+=\tAddition Assignment\ta += 5 (Same as a = a + 5)\n",
    "-=\tSubtraction Assignment\ta -= 5 (Same as a = a - 5)\n",
    "*=\tMultiplication Assignment\ta *= 5 (Same as a = a * 5)\n",
    "/=\tDivision Assignment\ta /= 5 (Same as a = a / 5)\n",
    "%=\tRemainder Assignment\ta %= 5 (Same as a = a % 5)\n",
    "**=\tExponent Assignment\ta **= 2 (Same as a = a ** 2)\n",
    "//=\tFloor Division Assignment\ta //= 3 (Same as a = a // 3)"
   ]
  },
  {
   "cell_type": "markdown",
   "id": "be8b4df1",
   "metadata": {},
   "source": [
    "### Python Bitwise Operators"
   ]
  },
  {
   "cell_type": "raw",
   "id": "174abe85",
   "metadata": {},
   "source": [
    "Bitwise operator works on bits and performs bit by bit operation. Assume if a = 60; and b = 13; Now in the binary format their values will be 0011 1100 and 0000 1101 respectively. Following table lists out the bitwise operators supported by Python language with an example each in those, we use the above two variables (a and b) as operands −\n",
    "\n",
    "a = 0011 1100\n",
    "\n",
    "b = 0000 1101\n",
    "\n",
    "--------------------------\n",
    "\n",
    "a&b = 12 (0000 1100)\n",
    "\n",
    "a|b = 61 (0011 1101)\n",
    "\n",
    "a^b = 49 (0011 0001)\n",
    "\n",
    "~a  = -61 (1100 0011)\n",
    "\n",
    "a << 2 = 240 (1111 0000)\n",
    "\n",
    "a>>2 = 15 (0000 1111)\n",
    "\n",
    "\n",
    "Operator\tName\tExample\n",
    "\n",
    "&\tBinary AND\tSets each bit to 1 if both bits are 1\n",
    "\n",
    "|\tBinary OR\tSets each bit to 1 if one of two bits is 1\n",
    "\n",
    "^\tBinary XOR\tSets each bit to 1 if only one of two bits is 1\n",
    "\n",
    "~\tBinary Ones Complement\tInverts all the bits\n",
    "\n",
    "<<\tBinary Left Shift\tShift left by pushing zeros in from the right and let the leftmost bits fall off\n",
    "\n",
    ">>\tBinary Right Shift\tShift right by pushing copies of the leftmost bit in from the left, and let the rightmost bits fall off"
   ]
  },
  {
   "cell_type": "markdown",
   "id": "21a98c81",
   "metadata": {},
   "source": [
    "### Python Logical Operators"
   ]
  },
  {
   "cell_type": "raw",
   "id": "ac7c5906",
   "metadata": {},
   "source": [
    "Operator\tDescription\tExample\n",
    "\n",
    "and Logical AND\t-- If both the operands are true then condition becomes true.\t(a and b) is true.\n",
    "\n",
    "or Logical OR\t-- If any of the two operands are non-zero then condition becomes true.\t(a or b) is true.\n",
    "\n",
    "not Logical NOT\t-- Used to reverse the logical state of its operand.\tNot(a and b) is false."
   ]
  },
  {
   "cell_type": "markdown",
   "id": "e67103fb",
   "metadata": {},
   "source": [
    "### Python Membership Operators"
   ]
  },
  {
   "cell_type": "markdown",
   "id": "7902e787",
   "metadata": {},
   "source": [
    "Operator\tDescription\tExample\n",
    "\n",
    "in  --\tEvaluates to true if it finds a variable in the specified sequence and false otherwise.\tx in y, here in results in a 1 if x is a member of sequence y.\n",
    "\n",
    "not in --\tEvaluates to true if it does not finds a variable in the specified sequence and false otherwise.\tx not in y, here not in results in a 1 if x is not a member of sequence y."
   ]
  },
  {
   "cell_type": "markdown",
   "id": "bc1c174e",
   "metadata": {},
   "source": [
    "### Python Identity Operators"
   ]
  },
  {
   "cell_type": "raw",
   "id": "aa778ad5",
   "metadata": {},
   "source": [
    "Identity operators compare the memory locations of two objects. There are two Identity operators explained below −\n",
    "\n",
    "\n",
    "Operator\tDescription\tExample\n",
    "\n",
    "is\t-- Evaluates to true if the variables on either side of the operator point to the same object and false otherwise.\tx is y, here is results in 1 if id(x) equals id(y).\n",
    "\n",
    "is not\t-- Evaluates to false if the variables on either side of the operator point to the same object and true otherwise.\tx is not y, here is not results in 1 if id(x) is not equal to id(y)."
   ]
  },
  {
   "cell_type": "markdown",
   "id": "6aa6a09c",
   "metadata": {},
   "source": [
    "### Python Operators Precedence"
   ]
  },
  {
   "cell_type": "raw",
   "id": "055474d3",
   "metadata": {},
   "source": [
    "\n",
    "Sr.No.\tOperator & Description\n",
    "\n",
    "1\t\n",
    "**\n",
    "\n",
    "Exponentiation (raise to the power)\n",
    "\n",
    "2\t\n",
    "~ + -\n",
    "\n",
    "Complement, unary plus and minus (method names for the last two are +@ and -@)\n",
    "\n",
    "3\t\n",
    "* / % //\n",
    "\n",
    "Multiply, divide, modulo and floor division\n",
    "\n",
    "4\t\n",
    "+ -\n",
    "\n",
    "Addition and subtraction\n",
    "\n",
    "5\t\n",
    ">> <<\n",
    "\n",
    "Right and left bitwise shift\n",
    "\n",
    "6\t\n",
    "&\n",
    "\n",
    "Bitwise 'AND'\n",
    "\n",
    "7\t\n",
    "^ |\n",
    "\n",
    "Bitwise exclusive `OR' and regular `OR'\n",
    "\n",
    "8\t\n",
    "<= < > >=\n",
    "\n",
    "Comparison operators\n",
    "\n",
    "9\t\n",
    "<> == !=\n",
    "\n",
    "Equality operators\n",
    "\n",
    "10\t\n",
    "= %= /= //= -= += *= **=\n",
    "\n",
    "Assignment operators\n",
    "\n",
    "11\t\n",
    "is is not\n",
    "\n",
    "Identity operators\n",
    "\n",
    "12\t\n",
    "in not in\n",
    "\n",
    "Membership operators\n",
    "\n",
    "13\t\n",
    "not or and\n",
    "\n",
    "Logical operators"
   ]
  }
 ],
 "metadata": {
  "kernelspec": {
   "display_name": "Python 3 (ipykernel)",
   "language": "python",
   "name": "python3"
  },
  "language_info": {
   "codemirror_mode": {
    "name": "ipython",
    "version": 3
   },
   "file_extension": ".py",
   "mimetype": "text/x-python",
   "name": "python",
   "nbconvert_exporter": "python",
   "pygments_lexer": "ipython3",
   "version": "3.9.6"
  }
 },
 "nbformat": 4,
 "nbformat_minor": 5
}
