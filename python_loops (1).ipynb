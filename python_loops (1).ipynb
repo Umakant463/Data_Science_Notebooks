{
 "cells": [
  {
   "cell_type": "markdown",
   "id": "052ffcc4-41d0-43d5-bd79-c5ac6b3a3333",
   "metadata": {},
   "source": [
    "# LOOPS & CONDITIONS"
   ]
  },
  {
   "cell_type": "code",
   "execution_count": 2,
   "id": "0d698dcf-ac0e-476c-8b01-5786c2db3e4c",
   "metadata": {},
   "outputs": [],
   "source": [
    "# We are going to make a Patterns out of loop statements\n",
    "# if else elif\n",
    "# loops ,  for/while\n",
    "n=7"
   ]
  },
  {
   "cell_type": "code",
   "execution_count": 7,
   "id": "4bb3465d-3dc8-4ced-a63e-1bd752858deb",
   "metadata": {},
   "outputs": [
    {
     "name": "stdout",
     "output_type": "stream",
     "text": [
      "*\n",
      "**\n",
      "***\n",
      "****\n",
      "*****\n",
      "******\n",
      "*******\n"
     ]
    }
   ],
   "source": [
    "## Right Angeled Triangle\n",
    "\n",
    "for i in range(0,7):\n",
    "    for j in range(0,i+1):\n",
    "        print('*',end=\"\")\n",
    "    print('\\r')"
   ]
  },
  {
   "cell_type": "code",
   "execution_count": 31,
   "id": "9d8eb6cc-e151-42fe-8d44-54da2188576c",
   "metadata": {},
   "outputs": [
    {
     "name": "stdout",
     "output_type": "stream",
     "text": [
      "          *\n",
      "         ***\n",
      "        *****\n",
      "       *******\n",
      "      *********\n",
      "     ***********\n",
      "    *************\n",
      "   ***************\n",
      "  *****************\n",
      " *******************\n"
     ]
    }
   ],
   "source": [
    "## Equilateral Triangle\n",
    "\n",
    "for i in range(0,10):\n",
    "    for j in range(0,10-i):\n",
    "        print(' ',end=\"\")\n",
    "\n",
    "    for k in range(0,i+1):\n",
    "        print('*',end=\"\")\n",
    "        \n",
    "    for m in range(1,i+1):\n",
    "        print('*',end=\"\")\n",
    "    print('\\r')\n",
    "   "
   ]
  },
  {
   "cell_type": "markdown",
   "id": "f591d548-4e79-4270-bb9e-1699cf05a656",
   "metadata": {},
   "source": [
    "# Operators\n",
    "\n",
    "### AND NOT NOR OR"
   ]
  },
  {
   "cell_type": "code",
   "execution_count": 32,
   "id": "cad8c3d2-d632-4cc0-8ac0-7d7a414bd47c",
   "metadata": {},
   "outputs": [
    {
     "data": {
      "text/plain": [
       "True"
      ]
     },
     "execution_count": 32,
     "metadata": {},
     "output_type": "execute_result"
    }
   ],
   "source": [
    "ans = True\n",
    "second_ans = False\n",
    "\n",
    "not True\n",
    "not False"
   ]
  },
  {
   "cell_type": "code",
   "execution_count": 42,
   "id": "43436004-0d30-48a4-abcd-a6cf0be5f16f",
   "metadata": {},
   "outputs": [
    {
     "data": {
      "text/plain": [
       "False"
      ]
     },
     "execution_count": 42,
     "metadata": {},
     "output_type": "execute_result"
    }
   ],
   "source": [
    "\n",
    "# Here we have use type casting to convert boolean 0 to int\n",
    "# any no greater than 1 is 1 only, e.g. 2,3,4 ..\n",
    "# boolean of any positive negative no. is True.\n",
    "int(bool(0))\n",
    "\n",
    "\n",
    "not(int(bool(0)))\n",
    "\n",
    "bool(0) # False\n",
    "\n",
    "bool(1) # True\n",
    "\n",
    "\n",
    "not 0  # True\n",
    "\n",
    "int(not 0)  # 1\n",
    "\n",
    "bool(0)"
   ]
  },
  {
   "cell_type": "markdown",
   "id": "928d0d90-a229-49be-a6e0-55553b932aab",
   "metadata": {},
   "source": [
    "## Memory address\n",
    "\n",
    "#### Each object has its own memory address\n",
    "\n",
    "### Equality operations\n",
    "######  is , not is, ==, !=="
   ]
  },
  {
   "cell_type": "code",
   "execution_count": 46,
   "id": "747aaeb9-5d6a-4e08-bd7d-9ed3c0bba4a3",
   "metadata": {},
   "outputs": [
    {
     "data": {
      "text/plain": [
       "140418867509312"
      ]
     },
     "execution_count": 46,
     "metadata": {},
     "output_type": "execute_result"
    }
   ],
   "source": [
    "## To check memory address\n",
    "\n",
    "a_list=['nerul','vashi','belapur']\n",
    "b_list=['nerul','vashi','belapur']\n",
    "\n",
    "id(a_list)  #140418867531648\n",
    "\n",
    "id(b_list) #140418867509312\n",
    "\n",
    "# If we create 2 different variable and have differe memory address \n",
    "# But if we assign  1 variable to another they will have same memory address.\n"
   ]
  },
  {
   "cell_type": "code",
   "execution_count": 52,
   "id": "c1e1527f-897d-4a72-9640-569714461603",
   "metadata": {},
   "outputs": [
    {
     "name": "stdout",
     "output_type": "stream",
     "text": [
      "a 140419216523536\n",
      "b 140419216523536\n",
      "name1 140418867149168\n",
      "name2 140418867149168\n",
      "list_a 140418867211456\n",
      "list_b 140418879845440\n",
      "place1_lst 140418879892864\n",
      "place2_lst 140418867243840\n"
     ]
    },
    {
     "data": {
      "text/plain": [
       "'\\na 140419216523536\\nb 140419216523536\\n\\nname1 140418867149168\\nname2 140418867149168\\n\\nlist_a 140418867144960\\nlist_b 140418867142720\\n\\nplace1_lst 140418867147840\\nplace2_lst 140418867213440  \\n'"
      ]
     },
     "execution_count": 52,
     "metadata": {},
     "output_type": "execute_result"
    }
   ],
   "source": [
    "## Id will be same for same int or string but not for same list\n",
    "\n",
    "a=2\n",
    "b=2\n",
    "\n",
    "name1= 'ram'\n",
    "name2 = 'ram'\n",
    "\n",
    "list_a = [2,3,4]\n",
    "list_b = [2,3,4]\n",
    "\n",
    "place1_lst = ['pune', 'goa', 'mum']\n",
    "place2_lst = ['pune', 'goa', 'mum']\n",
    "\n",
    "print('a', id(a))  #140419216523536\n",
    "print('b', id(b)) #140419216523536\n",
    "\n",
    "print('name1', id(name1))\n",
    "print('name2', id(name2))\n",
    "\n",
    "print('list_a', id(list_a))\n",
    "print('list_b', id(list_b))\n",
    "\n",
    "\n",
    "print('place1_lst', id(place1_lst))\n",
    "print('place2_lst', id(place2_lst))\n",
    "\n",
    "## Below is the output for above \n",
    "## as we can see list are always stored in different memory address.\n",
    "\"\"\"\n",
    "a 140419216523536\n",
    "b 140419216523536\n",
    "\n",
    "name1 140418867149168\n",
    "name2 140418867149168\n",
    "\n",
    "list_a 140418867144960\n",
    "list_b 140418867142720\n",
    "\n",
    "place1_lst 140418867147840\n",
    "place2_lst 140418867213440  \n",
    "\n",
    "\"\"\"\n"
   ]
  },
  {
   "cell_type": "code",
   "execution_count": null,
   "id": "a9c7c036-47ee-48d6-ac0c-6280eaa00229",
   "metadata": {},
   "outputs": [],
   "source": []
  }
 ],
 "metadata": {
  "kernelspec": {
   "display_name": "Python 3 (ipykernel)",
   "language": "python",
   "name": "python3"
  },
  "language_info": {
   "codemirror_mode": {
    "name": "ipython",
    "version": 3
   },
   "file_extension": ".py",
   "mimetype": "text/x-python",
   "name": "python",
   "nbconvert_exporter": "python",
   "pygments_lexer": "ipython3",
   "version": "3.10.8"
  }
 },
 "nbformat": 4,
 "nbformat_minor": 5
}
